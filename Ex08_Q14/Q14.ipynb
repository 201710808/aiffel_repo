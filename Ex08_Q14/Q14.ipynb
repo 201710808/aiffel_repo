{
 "cells": [
  {
   "cell_type": "markdown",
   "id": "e85a4e4e",
   "metadata": {},
   "source": [
    "## 1) 데이터 준비와 확인"
   ]
  },
  {
   "cell_type": "code",
   "execution_count": 1,
   "id": "df0792d6",
   "metadata": {},
   "outputs": [
    {
     "data": {
      "text/html": [
       "<div>\n",
       "<style scoped>\n",
       "    .dataframe tbody tr th:only-of-type {\n",
       "        vertical-align: middle;\n",
       "    }\n",
       "\n",
       "    .dataframe tbody tr th {\n",
       "        vertical-align: top;\n",
       "    }\n",
       "\n",
       "    .dataframe thead th {\n",
       "        text-align: right;\n",
       "    }\n",
       "</style>\n",
       "<table border=\"1\" class=\"dataframe\">\n",
       "  <thead>\n",
       "    <tr style=\"text-align: right;\">\n",
       "      <th></th>\n",
       "      <th>id</th>\n",
       "      <th>document</th>\n",
       "      <th>label</th>\n",
       "    </tr>\n",
       "  </thead>\n",
       "  <tbody>\n",
       "    <tr>\n",
       "      <th>0</th>\n",
       "      <td>9976970</td>\n",
       "      <td>아 더빙.. 진짜 짜증나네요 목소리</td>\n",
       "      <td>0</td>\n",
       "    </tr>\n",
       "    <tr>\n",
       "      <th>1</th>\n",
       "      <td>3819312</td>\n",
       "      <td>흠...포스터보고 초딩영화줄....오버연기조차 가볍지 않구나</td>\n",
       "      <td>1</td>\n",
       "    </tr>\n",
       "    <tr>\n",
       "      <th>2</th>\n",
       "      <td>10265843</td>\n",
       "      <td>너무재밓었다그래서보는것을추천한다</td>\n",
       "      <td>0</td>\n",
       "    </tr>\n",
       "    <tr>\n",
       "      <th>3</th>\n",
       "      <td>9045019</td>\n",
       "      <td>교도소 이야기구먼 ..솔직히 재미는 없다..평점 조정</td>\n",
       "      <td>0</td>\n",
       "    </tr>\n",
       "    <tr>\n",
       "      <th>4</th>\n",
       "      <td>6483659</td>\n",
       "      <td>사이몬페그의 익살스런 연기가 돋보였던 영화!스파이더맨에서 늙어보이기만 했던 커스틴 ...</td>\n",
       "      <td>1</td>\n",
       "    </tr>\n",
       "  </tbody>\n",
       "</table>\n",
       "</div>"
      ],
      "text/plain": [
       "         id                                           document  label\n",
       "0   9976970                                아 더빙.. 진짜 짜증나네요 목소리      0\n",
       "1   3819312                  흠...포스터보고 초딩영화줄....오버연기조차 가볍지 않구나      1\n",
       "2  10265843                                  너무재밓었다그래서보는것을추천한다      0\n",
       "3   9045019                      교도소 이야기구먼 ..솔직히 재미는 없다..평점 조정      0\n",
       "4   6483659  사이몬페그의 익살스런 연기가 돋보였던 영화!스파이더맨에서 늙어보이기만 했던 커스틴 ...      1"
      ]
     },
     "execution_count": 1,
     "metadata": {},
     "output_type": "execute_result"
    }
   ],
   "source": [
    "import numpy as np\n",
    "import pandas as pd\n",
    "import konlpy\n",
    "import gensim\n",
    "\n",
    "train_data = pd.read_table('~/aiffel/sentiment_classification/data/ratings_train.txt')\n",
    "test_data = pd.read_table('~/aiffel/sentiment_classification/data/ratings_test.txt')\n",
    "\n",
    "train_data.head()"
   ]
  },
  {
   "cell_type": "markdown",
   "id": "9ebb0a3c",
   "metadata": {},
   "source": [
    "## 2) 데이터로더 구성"
   ]
  },
  {
   "cell_type": "code",
   "execution_count": 2,
   "id": "3a75e9fe",
   "metadata": {},
   "outputs": [],
   "source": [
    "from konlpy.tag import Mecab\n",
    "from collections import Counter\n",
    "\n",
    "tokenizer = Mecab()\n",
    "stopwords = ['의','가','이','은','들','는','좀','잘','걍','과','도','를','으로','자','에','와','한','하다']\n",
    "#data loader\n",
    "def load_data(train_data, test_data, num_words=10000):\n",
    "    #중복된 리뷰 & 결측값 제거\n",
    "    train_data.drop_duplicates(subset=['document'], inplace=True)\n",
    "    train_data = train_data.dropna(how = 'any')\n",
    "    test_data.drop_duplicates(subset=['document'], inplace=True)\n",
    "    test_data = test_data.dropna(how = 'any')\n",
    "    \n",
    "    #토크나이징 - 형태소 단위(morphs) & 불용어 제거\n",
    "    X_train = []\n",
    "    for sentence in train_data['document']:\n",
    "        temp_X = tokenizer.morphs(sentence) \n",
    "        temp_X = [word for word in temp_X if not word in stopwords]\n",
    "        X_train.append(temp_X) # [[w, w, w], ... , [w, w, w]]\n",
    "        \n",
    "    X_test = []\n",
    "    for sentence in test_data['document']:\n",
    "        temp_X = tokenizer.morphs(sentence)\n",
    "        temp_X = [word for word in temp_X if not word in stopwords]\n",
    "        X_test.append(temp_X)\n",
    "    \n",
    "    # word_to_idx dictionary\n",
    "    words = np.concatenate(X_train).tolist() # [w, w, ... , w, w ]\n",
    "    counter = Counter(words) \n",
    "    counter = counter.most_common(10000-4) # 많은 수로 정렬 # -4 : pad, bos, unk, unused\n",
    "    vocab = ['<PAD>', '<BOS>', '<UNK>', '<>'] + [key for key, _ in counter]\n",
    "    word_to_index = {word:index for index, word in enumerate(vocab)}\n",
    "    \n",
    "    # word_to_idx for list\n",
    "    def wordlist_to_indexlist(wordlist):\n",
    "        return [word_to_index[word] if word in word_to_index else word_to_index['<UNK>'] for word in wordlist]\n",
    "        \n",
    "    X_train = list(map(wordlist_to_indexlist, X_train))\n",
    "    X_test = list(map(wordlist_to_indexlist, X_test))\n",
    "    y_train = np.array(list(train_data['label']))\n",
    "    y_test = np.array(list(test_data['label']))\n",
    "        \n",
    "    return X_train, y_train, X_test, y_test, word_to_index\n",
    "  "
   ]
  },
  {
   "cell_type": "code",
   "execution_count": 3,
   "id": "78cced1f",
   "metadata": {},
   "outputs": [
    {
     "name": "stdout",
     "output_type": "stream",
     "text": [
      "train: 146182, test: 49157\n"
     ]
    }
   ],
   "source": [
    "#load train/test data as idx list, dictionary\n",
    "X_train, y_train, X_test, y_test, word_to_index = load_data(train_data, test_data)\n",
    "print(\"train: {}, test: {}\".format(len(X_train), len(X_test)))"
   ]
  },
  {
   "cell_type": "code",
   "execution_count": 4,
   "id": "aac259e6",
   "metadata": {},
   "outputs": [],
   "source": [
    "# word-idx encoding & decoding\n",
    "index_to_word = {index:word for word, index in word_to_index.items()}\n",
    "\n",
    "def get_encoded_sentence(sentence, word_to_index):\n",
    "    return [word_to_index['<BOS>']]+[word_to_index[word] if word in word_to_index else word_to_index['<UNK>'] for word in sentence.split()]\n",
    "\n",
    "def get_encoded_sentences(sentences, word_to_index):\n",
    "    return [get_encoded_sentence(sentence, word_to_index) for sentence in sentences]\n",
    "\n",
    "def get_decoded_sentence(encoded_sentence, index_to_word):\n",
    "    return ' '.join(index_to_word[index] if index in index_to_word else '<UNK>' for index in encoded_sentence[1:])  #[1:]를 통해 <BOS>를 제외\n",
    "\n",
    "def get_decoded_sentences(encoded_sentences, index_to_word):\n",
    "    return [get_decoded_sentence(encoded_sentence, index_to_word) for encoded_sentence in encoded_sentences]"
   ]
  },
  {
   "cell_type": "markdown",
   "id": "b949922e",
   "metadata": {},
   "source": [
    "## 3) 모델 구성을 위한 데이터 분석 및 가공"
   ]
  },
  {
   "cell_type": "code",
   "execution_count": 5,
   "id": "eb08fec8",
   "metadata": {},
   "outputs": [
    {
     "name": "stdout",
     "output_type": "stream",
     "text": [
      "num tokens mean: 15.96940191154864\n",
      "num tokens max: 116\n",
      "num tokens std: 12.843571191092\n",
      "max length: 100\n"
     ]
    },
    {
     "data": {
      "image/png": "[encoded data removed]",
      "text/plain": [
       "<Figure size 360x360 with 1 Axes>"
      ]
     },
     "metadata": {
      "needs_background": "light"
     },
     "output_type": "display_data"
    }
   ],
   "source": [
    "import matplotlib.pyplot as plt\n",
    "import seaborn as sns\n",
    "import tensorflow as tf\n",
    "from tensorflow.keras.preprocessing.sequence import pad_sequences\n",
    "\n",
    "# 데이터셋 내 문장 길이 분포\n",
    "total_data = X_train + X_test\n",
    "num_tokens = [len(tokens) for tokens in total_data]\n",
    "num_tokens = np.array(num_tokens)\n",
    "\n",
    "print(\"num tokens mean:\", np.mean(num_tokens))\n",
    "print(\"num tokens max:\", np.max(num_tokens))\n",
    "print(\"num tokens std:\", np.std(num_tokens))\n",
    "\n",
    "sns.displot([len(tokens) for tokens in total_data ])\n",
    "\n",
    "# 적절한 최대 문장 길이 지정\n",
    "max_len = 100\n",
    "print(\"max length:\", max_len)"
   ]
  },
  {
   "cell_type": "code",
   "execution_count": 6,
   "id": "4bcbd5c5",
   "metadata": {},
   "outputs": [
    {
     "name": "stdout",
     "output_type": "stream",
     "text": [
      "(146182, 100)\n"
     ]
    }
   ],
   "source": [
    "# 패딩 추가\n",
    "X_train = pad_sequences(X_train, maxlen=max_len, padding='post')\n",
    "X_test = pad_sequences(X_test, maxlen=max_len, padding='post')\n",
    "print(X_train.shape)"
   ]
  },
  {
   "cell_type": "markdown",
   "id": "ca5b0e26",
   "metadata": {},
   "source": [
    "## 4) 모델 구성 및 validation set 구성"
   ]
  },
  {
   "cell_type": "code",
   "execution_count": 7,
   "id": "16e4595f",
   "metadata": {},
   "outputs": [
    {
     "name": "stdout",
     "output_type": "stream",
     "text": [
      "Model: \"LSTM\"\n",
      "_________________________________________________________________\n",
      "Layer (type)                 Output Shape              Param #   \n",
      "=================================================================\n",
      "emb (Embedding)              (None, None, 200)         2000000   \n",
      "_________________________________________________________________\n",
      "lstm (LSTM)                  (None, 64)                67840     \n",
      "_________________________________________________________________\n",
      "d_rel (Dense)                (None, 64)                4160      \n",
      "_________________________________________________________________\n",
      "d_sig (Dense)                (None, 1)                 65        \n",
      "=================================================================\n",
      "Total params: 2,072,065\n",
      "Trainable params: 2,072,065\n",
      "Non-trainable params: 0\n",
      "_________________________________________________________________\n",
      "Model: \"1D_CNN\"\n",
      "_________________________________________________________________\n",
      "Layer (type)                 Output Shape              Param #   \n",
      "=================================================================\n",
      "emb (Embedding)              (None, None, 200)         2000000   \n",
      "_________________________________________________________________\n",
      "conv1d (Conv1D)              (None, None, 128)         179328    \n",
      "_________________________________________________________________\n",
      "global_max_pooling1d (Global (None, 128)               0         \n",
      "_________________________________________________________________\n",
      "d_rel (Dense)                (None, 64)                8256      \n",
      "_________________________________________________________________\n",
      "d_sig (Dense)                (None, 1)                 65        \n",
      "=================================================================\n",
      "Total params: 2,187,649\n",
      "Trainable params: 2,187,649\n",
      "Non-trainable params: 0\n",
      "_________________________________________________________________\n",
      "Model: \"Bidirectional_LSTM\"\n",
      "_________________________________________________________________\n",
      "Layer (type)                 Output Shape              Param #   \n",
      "=================================================================\n",
      "emb (Embedding)              (None, None, 200)         2000000   \n",
      "_________________________________________________________________\n",
      "bidirectional (Bidirectional (None, 128)               135680    \n",
      "_________________________________________________________________\n",
      "d_rel (Dense)                (None, 64)                8256      \n",
      "_________________________________________________________________\n",
      "d_sig (Dense)                (None, 1)                 65        \n",
      "=================================================================\n",
      "Total params: 2,144,001\n",
      "Trainable params: 2,144,001\n",
      "Non-trainable params: 0\n",
      "_________________________________________________________________\n"
     ]
    }
   ],
   "source": [
    "# 모델 구성: LSTM, 1D-CNN, Bidirectional LSTM\n",
    "from tensorflow.keras.models import Sequential\n",
    "from tensorflow.keras.layers import Embedding, LSTM, Dense\n",
    "from tensorflow.keras.layers import Conv1D, GlobalMaxPooling1D\n",
    "from tensorflow.keras.layers import Bidirectional\n",
    "\n",
    "num_words = 10000\n",
    "word_vector_dim = 200\n",
    "\n",
    "model_lstm = Sequential(name='LSTM')\n",
    "model_lstm.add(Embedding(num_words, word_vector_dim, name='emb'))\n",
    "model_lstm.add(LSTM(64, name='lstm'))\n",
    "model_lstm.add(Dense(64, activation='relu', name='d_rel'))\n",
    "model_lstm.add(Dense(1, activation='sigmoid', name='d_sig'))\n",
    "\n",
    "model_cnn = Sequential(name='1D_CNN')\n",
    "model_cnn.add(Embedding(num_words, word_vector_dim, name='emb'))\n",
    "model_cnn.add(Conv1D(128, 7, activation='relu', name='conv1d'))\n",
    "model_cnn.add(GlobalMaxPooling1D(name='global_max_pooling1d'))\n",
    "model_cnn.add(Dense(64, activation='relu', name='d_rel'))\n",
    "model_cnn.add(Dense(1, activation='sigmoid', name='d_sig'))\n",
    "\n",
    "model_bi_lstm = Sequential(name='Bidirectional_LSTM')\n",
    "model_bi_lstm.add(Embedding(num_words, word_vector_dim, name='emb'))\n",
    "model_bi_lstm.add(Bidirectional(LSTM(64, name='bi_lstm')))\n",
    "model_bi_lstm.add(Dense(64, activation='relu', name='d_rel'))\n",
    "model_bi_lstm.add(Dense(1, activation='sigmoid', name='d_sig'))\n",
    "\n",
    "model_lstm.summary()\n",
    "model_cnn.summary()\n",
    "model_bi_lstm.summary()"
   ]
  },
  {
   "cell_type": "code",
   "execution_count": 8,
   "id": "3ec2dfe4",
   "metadata": {},
   "outputs": [],
   "source": [
    "#validation set 구성\n",
    "val_size = int(len(X_train) * 0.2)\n",
    "\n",
    "X_val = X_train[:val_size]\n",
    "y_val = y_train[:val_size]\n",
    "\n",
    "X_train = X_train[val_size:]\n",
    "y_train = y_train[val_size:]"
   ]
  },
  {
   "cell_type": "markdown",
   "id": "18c8fa87",
   "metadata": {},
   "source": [
    "## 5) 모델 훈련 개시"
   ]
  },
  {
   "cell_type": "code",
   "execution_count": 10,
   "id": "bf1048fc",
   "metadata": {
    "scrolled": true
   },
   "outputs": [
    {
     "name": "stdout",
     "output_type": "stream",
     "text": [
      "Epoch 1/10\n",
      "3655/3655 [==============================] - 27s 7ms/step - loss: 0.6932 - acc: 0.4990 - val_loss: 0.6932 - val_acc: 0.4976\n",
      "\n",
      "Epoch 00001: val_acc improved from -inf to 0.49761, saving model to best_model.lstm\n"
     ]
    },
    {
     "name": "stderr",
     "output_type": "stream",
     "text": [
      "WARNING:absl:Found untraced functions such as lstm_cell_layer_call_fn, lstm_cell_layer_call_and_return_conditional_losses, lstm_cell_layer_call_fn, lstm_cell_layer_call_and_return_conditional_losses, lstm_cell_layer_call_and_return_conditional_losses while saving (showing 5 of 5). These functions will not be directly callable after loading.\n"
     ]
    },
    {
     "name": "stdout",
     "output_type": "stream",
     "text": [
      "INFO:tensorflow:Assets written to: best_model.lstm/assets\n"
     ]
    },
    {
     "name": "stderr",
     "output_type": "stream",
     "text": [
      "INFO:tensorflow:Assets written to: best_model.lstm/assets\n"
     ]
    },
    {
     "name": "stdout",
     "output_type": "stream",
     "text": [
      "Epoch 2/10\n",
      "3655/3655 [==============================] - 26s 7ms/step - loss: 0.6932 - acc: 0.4974 - val_loss: 0.6931 - val_acc: 0.5024\n",
      "\n",
      "Epoch 00002: val_acc improved from 0.49761 to 0.50239, saving model to best_model.lstm\n"
     ]
    },
    {
     "name": "stderr",
     "output_type": "stream",
     "text": [
      "WARNING:absl:Found untraced functions such as lstm_cell_layer_call_fn, lstm_cell_layer_call_and_return_conditional_losses, lstm_cell_layer_call_fn, lstm_cell_layer_call_and_return_conditional_losses, lstm_cell_layer_call_and_return_conditional_losses while saving (showing 5 of 5). These functions will not be directly callable after loading.\n"
     ]
    },
    {
     "name": "stdout",
     "output_type": "stream",
     "text": [
      "INFO:tensorflow:Assets written to: best_model.lstm/assets\n"
     ]
    },
    {
     "name": "stderr",
     "output_type": "stream",
     "text": [
      "INFO:tensorflow:Assets written to: best_model.lstm/assets\n"
     ]
    },
    {
     "name": "stdout",
     "output_type": "stream",
     "text": [
      "Epoch 3/10\n",
      "3655/3655 [==============================] - 26s 7ms/step - loss: 0.6931 - acc: 0.5024 - val_loss: 0.6932 - val_acc: 0.4976\n",
      "\n",
      "Epoch 00003: val_acc did not improve from 0.50239\n",
      "Epoch 4/10\n",
      "3655/3655 [==============================] - 26s 7ms/step - loss: 0.6932 - acc: 0.5002 - val_loss: 0.6931 - val_acc: 0.5024\n",
      "\n",
      "Epoch 00004: val_acc did not improve from 0.50239\n",
      "Epoch 5/10\n",
      "3655/3655 [==============================] - 25s 7ms/step - loss: 0.6931 - acc: 0.5005 - val_loss: 0.6931 - val_acc: 0.5024\n",
      "\n",
      "Epoch 00005: val_acc did not improve from 0.50239\n",
      "Epoch 00005: early stopping\n",
      "Epoch 1/10\n",
      "3655/3655 [==============================] - 21s 5ms/step - loss: 0.3572 - acc: 0.8406 - val_loss: 0.3120 - val_acc: 0.8655\n",
      "\n",
      "Epoch 00001: val_acc improved from -inf to 0.86554, saving model to best_model.cnn\n",
      "INFO:tensorflow:Assets written to: best_model.cnn/assets\n"
     ]
    },
    {
     "name": "stderr",
     "output_type": "stream",
     "text": [
      "INFO:tensorflow:Assets written to: best_model.cnn/assets\n"
     ]
    },
    {
     "name": "stdout",
     "output_type": "stream",
     "text": [
      "Epoch 2/10\n",
      "3655/3655 [==============================] - 18s 5ms/step - loss: 0.2496 - acc: 0.8961 - val_loss: 0.3288 - val_acc: 0.8647\n",
      "\n",
      "Epoch 00002: val_acc did not improve from 0.86554\n",
      "Epoch 3/10\n",
      "3655/3655 [==============================] - 18s 5ms/step - loss: 0.1620 - acc: 0.9358 - val_loss: 0.3737 - val_acc: 0.8619\n",
      "\n",
      "Epoch 00003: val_acc did not improve from 0.86554\n",
      "Epoch 4/10\n",
      "3655/3655 [==============================] - 18s 5ms/step - loss: 0.0966 - acc: 0.9621 - val_loss: 0.4841 - val_acc: 0.8552\n",
      "\n",
      "Epoch 00004: val_acc did not improve from 0.86554\n",
      "Epoch 00004: early stopping\n",
      "Epoch 1/10\n",
      "3655/3655 [==============================] - 42s 11ms/step - loss: 0.3648 - acc: 0.8365 - val_loss: 0.3152 - val_acc: 0.8625\n",
      "\n",
      "Epoch 00001: val_acc improved from -inf to 0.86250, saving model to best_model.bi_lstm\n"
     ]
    },
    {
     "name": "stderr",
     "output_type": "stream",
     "text": [
      "WARNING:absl:Found untraced functions such as lstm_cell_2_layer_call_fn, lstm_cell_2_layer_call_and_return_conditional_losses, lstm_cell_3_layer_call_fn, lstm_cell_3_layer_call_and_return_conditional_losses, lstm_cell_2_layer_call_fn while saving (showing 5 of 10). These functions will not be directly callable after loading.\n"
     ]
    },
    {
     "name": "stdout",
     "output_type": "stream",
     "text": [
      "INFO:tensorflow:Assets written to: best_model.bi_lstm/assets\n"
     ]
    },
    {
     "name": "stderr",
     "output_type": "stream",
     "text": [
      "INFO:tensorflow:Assets written to: best_model.bi_lstm/assets\n"
     ]
    },
    {
     "name": "stdout",
     "output_type": "stream",
     "text": [
      "Epoch 2/10\n",
      "3655/3655 [==============================] - 39s 11ms/step - loss: 0.2758 - acc: 0.8833 - val_loss: 0.3135 - val_acc: 0.8673\n",
      "\n",
      "Epoch 00002: val_acc improved from 0.86250 to 0.86725, saving model to best_model.bi_lstm\n"
     ]
    },
    {
     "name": "stderr",
     "output_type": "stream",
     "text": [
      "WARNING:absl:Found untraced functions such as lstm_cell_2_layer_call_fn, lstm_cell_2_layer_call_and_return_conditional_losses, lstm_cell_3_layer_call_fn, lstm_cell_3_layer_call_and_return_conditional_losses, lstm_cell_2_layer_call_fn while saving (showing 5 of 10). These functions will not be directly callable after loading.\n"
     ]
    },
    {
     "name": "stdout",
     "output_type": "stream",
     "text": [
      "INFO:tensorflow:Assets written to: best_model.bi_lstm/assets\n"
     ]
    },
    {
     "name": "stderr",
     "output_type": "stream",
     "text": [
      "INFO:tensorflow:Assets written to: best_model.bi_lstm/assets\n"
     ]
    },
    {
     "name": "stdout",
     "output_type": "stream",
     "text": [
      "Epoch 3/10\n",
      "3655/3655 [==============================] - 39s 11ms/step - loss: 0.2271 - acc: 0.9063 - val_loss: 0.3279 - val_acc: 0.8674\n",
      "\n",
      "Epoch 00003: val_acc improved from 0.86725 to 0.86742, saving model to best_model.bi_lstm\n"
     ]
    },
    {
     "name": "stderr",
     "output_type": "stream",
     "text": [
      "WARNING:absl:Found untraced functions such as lstm_cell_2_layer_call_fn, lstm_cell_2_layer_call_and_return_conditional_losses, lstm_cell_3_layer_call_fn, lstm_cell_3_layer_call_and_return_conditional_losses, lstm_cell_2_layer_call_fn while saving (showing 5 of 10). These functions will not be directly callable after loading.\n"
     ]
    },
    {
     "name": "stdout",
     "output_type": "stream",
     "text": [
      "INFO:tensorflow:Assets written to: best_model.bi_lstm/assets\n"
     ]
    },
    {
     "name": "stderr",
     "output_type": "stream",
     "text": [
      "INFO:tensorflow:Assets written to: best_model.bi_lstm/assets\n"
     ]
    },
    {
     "name": "stdout",
     "output_type": "stream",
     "text": [
      "Epoch 4/10\n",
      "3655/3655 [==============================] - 39s 11ms/step - loss: 0.1814 - acc: 0.9269 - val_loss: 0.3561 - val_acc: 0.8641\n",
      "\n",
      "Epoch 00004: val_acc did not improve from 0.86742\n",
      "Epoch 5/10\n",
      "3655/3655 [==============================] - 39s 11ms/step - loss: 0.1423 - acc: 0.9438 - val_loss: 0.4295 - val_acc: 0.8575\n",
      "\n",
      "Epoch 00005: val_acc did not improve from 0.86742\n",
      "Epoch 00005: early stopping\n"
     ]
    }
   ],
   "source": [
    "from tensorflow.keras.callbacks import EarlyStopping, ModelCheckpoint\n",
    "from tensorflow.keras.models import load_model\n",
    "\n",
    "es_lstm = EarlyStopping(monitor='val_loss', mode='min', verbose=1, patience=3)\n",
    "mc_lstm = ModelCheckpoint('best_model.lstm', monitor='val_acc', mode='max', verbose=1, save_best_only=True)\n",
    "model_lstm.compile(optimizer='adam', loss='binary_crossentropy', metrics=['acc'])\n",
    "history_lstm = model_lstm.fit(X_train, y_train, epochs=10, validation_data=(X_val, y_val), callbacks=[es_lstm, mc_lstm])\n",
    "\n",
    "es_cnn = EarlyStopping(monitor='val_loss', mode='min', verbose=1, patience=3)\n",
    "mc_cnn = ModelCheckpoint('best_model.cnn', monitor='val_acc', mode='max', verbose=1, save_best_only=True)\n",
    "model_cnn.compile(optimizer='adam', loss='binary_crossentropy', metrics=['acc'])\n",
    "history_cnn = model_cnn.fit(X_train, y_train, epochs=10, validation_data=(X_val, y_val), callbacks=[es_cnn, mc_cnn])\n",
    "\n",
    "es_bi_lstm = EarlyStopping(monitor='val_loss', mode='min', verbose=1, patience=3)\n",
    "mc_bi_lstm = ModelCheckpoint('best_model.bi_lstm', monitor='val_acc', mode='max', verbose=1, save_best_only=True)\n",
    "model_bi_lstm.compile(optimizer='adam', loss='binary_crossentropy', metrics=['acc'])\n",
    "history_bi_lstm = model_bi_lstm.fit(X_train, y_train, epochs=10, validation_data=(X_val, y_val), callbacks=[es_bi_lstm, mc_bi_lstm])"
   ]
  },
  {
   "cell_type": "markdown",
   "id": "65f078ec",
   "metadata": {},
   "source": [
    "## 6) Loss, Accuracy 그래프 시각화"
   ]
  },
  {
   "cell_type": "code",
   "execution_count": 12,
   "id": "da836d54",
   "metadata": {
    "scrolled": false
   },
   "outputs": [
    {
     "data": {
      "image/png": "[encoded data removed]",
      "text/plain": [
       "<Figure size 432x288 with 1 Axes>"
      ]
     },
     "metadata": {
      "needs_background": "light"
     },
     "output_type": "display_data"
    },
    {
     "data": {
      "image/png": "[encoded data removed]",
      "text/plain": [
       "<Figure size 432x288 with 1 Axes>"
      ]
     },
     "metadata": {
      "needs_background": "light"
     },
     "output_type": "display_data"
    },
    {
     "data": {
      "image/png": "[encoded data removed]",
      "text/plain": [
       "<Figure size 432x288 with 1 Axes>"
      ]
     },
     "metadata": {
      "needs_background": "light"
     },
     "output_type": "display_data"
    },
    {
     "data": {
      "image/png": "[encoded data removed]",
      "text/plain": [
       "<Figure size 432x288 with 1 Axes>"
      ]
     },
     "metadata": {
      "needs_background": "light"
     },
     "output_type": "display_data"
    },
    {
     "data": {
      "image/png": "[encoded data removed]",
      "text/plain": [
       "<Figure size 432x288 with 1 Axes>"
      ]
     },
     "metadata": {
      "needs_background": "light"
     },
     "output_type": "display_data"
    },
    {
     "data": {
      "image/png": "[encoded data removed]",
      "text/plain": [
       "<Figure size 432x288 with 1 Axes>"
      ]
     },
     "metadata": {
      "needs_background": "light"
     },
     "output_type": "display_data"
    }
   ],
   "source": [
    "def plot_graphs(history, metric, title):\n",
    "    plt.title(title)\n",
    "    plt.plot(history.history[metric])\n",
    "    plt.plot(history.history['val_' + metric])\n",
    "    plt.xlabel(\"Epochs\")\n",
    "    plt.ylabel(metric)\n",
    "    plt.legend([metric, 'val_' + metric])\n",
    "    plt.show()\n",
    "\n",
    "plot_graphs(history_lstm, 'acc', 'lstm')\n",
    "plot_graphs(history_lstm, 'loss', 'lstm')\n",
    "\n",
    "plot_graphs(history_cnn, 'acc', '1d-cnn')\n",
    "plot_graphs(history_cnn, 'loss', '1d-cnn')\n",
    "\n",
    "plot_graphs(history_bi_lstm, 'acc', 'bi-lstm')\n",
    "plot_graphs(history_bi_lstm, 'loss', 'bi-lstm')"
   ]
  },
  {
   "cell_type": "code",
   "execution_count": 13,
   "id": "0e485b91",
   "metadata": {},
   "outputs": [
    {
     "name": "stdout",
     "output_type": "stream",
     "text": [
      "LSTM Test Accuracy: 0.4972842037677765\n",
      "1D-CNN Test Accuracy: 0.8521268367767334\n",
      "Bidirectional LSTM Test Accuracy: 0.8565616011619568\n"
     ]
    }
   ],
   "source": [
    "test_loss_lstm, test_accuracy_lstm = model_lstm.evaluate(X_test, y_test, verbose=0)\n",
    "print(\"LSTM Test Accuracy:\", test_accuracy_lstm)\n",
    "\n",
    "test_loss_cnn, test_accuracy_cnn = model_cnn.evaluate(X_test, y_test, verbose=0)\n",
    "print(\"1D-CNN Test Accuracy:\", test_accuracy_cnn)\n",
    "\n",
    "test_loss_bi_lstm, test_accuracy_bi_lstm = model_bi_lstm.evaluate(X_test, y_test, verbose=0)\n",
    "print(\"Bidirectional LSTM Test Accuracy:\", test_accuracy_bi_lstm)"
   ]
  },
  {
   "cell_type": "markdown",
   "id": "b8c280e2",
   "metadata": {},
   "source": [
    "## 7) 학습된 Embedding 레이어 분석"
   ]
  },
  {
   "cell_type": "code",
   "execution_count": 14,
   "id": "fed1005a",
   "metadata": {},
   "outputs": [
    {
     "name": "stdout",
     "output_type": "stream",
     "text": [
      "(10000, 200)\n"
     ]
    }
   ],
   "source": [
    "embedding_layer = model_bi_lstm.layers[0]\n",
    "weights = embedding_layer.get_weights()[0]\n",
    "print(weights.shape)"
   ]
  },
  {
   "cell_type": "code",
   "execution_count": 51,
   "id": "fcd2819d",
   "metadata": {},
   "outputs": [],
   "source": [
    "import os\n",
    "word2vec_file_path = os.getenv('HOME')+'/aiffel/sentiment_classification/data/word2vec.txt'\n",
    "f = open(word2vec_file_path, 'w')\n",
    "f.write('{} {}\\n'.format(10000-4, 200))  # 몇개의 벡터를 얼마 사이즈로 기재할지 타이틀을 씁니다.\n",
    "\n",
    "# 단어 개수(에서 특수문자 4개는 제외하고)만큼의 워드 벡터를 파일에 기록합니다. \n",
    "vectors = model_bi_lstm.get_weights()[0]\n",
    "for i in range(4,10000):\n",
    "    f.write('{} {}\\n'.format(index_to_word[i], ' '.join(map(str, list(vectors[i, :])))))\n",
    "f.close()"
   ]
  },
  {
   "cell_type": "code",
   "execution_count": 52,
   "id": "193169bd",
   "metadata": {
    "scrolled": true
   },
   "outputs": [
    {
     "name": "stdout",
     "output_type": "stream",
     "text": [
      "(200,)\n"
     ]
    }
   ],
   "source": [
    "from gensim.models.keyedvectors import Word2VecKeyedVectors\n",
    "\n",
    "word_vectors = Word2VecKeyedVectors.load_word2vec_format(word2vec_file_path, binary=False)\n",
    "vector = word_vectors['야호']\n",
    "print(vector.shape)"
   ]
  },
  {
   "cell_type": "code",
   "execution_count": 40,
   "id": "3a52fade",
   "metadata": {},
   "outputs": [
    {
     "data": {
      "text/plain": [
       "[('bbbb', 0.8364874720573425),\n",
       " ('크리스', 0.8288432955741882),\n",
       " ('장동민', 0.825219988822937),\n",
       " ('찰리채플린', 0.823055624961853),\n",
       " ('잼따', 0.8225897550582886),\n",
       " ('앙', 0.8211331963539124),\n",
       " ('츠마부키', 0.8124189972877502),\n",
       " ('봣습니다', 0.8102415800094604),\n",
       " ('깨달음', 0.8097405433654785),\n",
       " ('치즈', 0.8080706000328064)]"
      ]
     },
     "execution_count": 40,
     "metadata": {},
     "output_type": "execute_result"
    }
   ],
   "source": [
    "word_vectors.similar_by_word(\"야호\")"
   ]
  },
  {
   "cell_type": "markdown",
   "id": "8485a16a",
   "metadata": {},
   "source": [
    "## 8)한국어 Word2Vec 임베딩 활용하여 성능 개선"
   ]
  },
  {
   "cell_type": "code",
   "execution_count": 58,
   "id": "d84a5b23",
   "metadata": {},
   "outputs": [
    {
     "data": {
      "text/plain": [
       "[('마호', 0.7901776432991028),\n",
       " ('우키', 0.7638165950775146),\n",
       " ('후치', 0.7490092515945435),\n",
       " ('키리', 0.7468628287315369),\n",
       " ('히나', 0.7463589310646057),\n",
       " ('노히', 0.7460137009620667),\n",
       " ('우케', 0.7459872364997864),\n",
       " ('요우', 0.7446965575218201),\n",
       " ('가라스', 0.7432337403297424),\n",
       " ('쿠사', 0.7405006289482117)]"
      ]
     },
     "execution_count": 58,
     "metadata": {},
     "output_type": "execute_result"
    }
   ],
   "source": [
    "from gensim.models.keyedvectors import Word2VecKeyedVectors\n",
    "from tensorflow.keras.initializers import Constant\n",
    "\n",
    "\n",
    "word2vec_file_path = os.getenv('HOME')+'/data/word2vec_ko.model'\n",
    "word2vec = gensim.models.Word2Vec.load(word2vec_file_path)\n",
    "word2vec.wv.similar_by_word(\"야호\")"
   ]
  },
  {
   "cell_type": "markdown",
   "id": "95de43ab",
   "metadata": {},
   "source": [
    "???"
   ]
  },
  {
   "cell_type": "code",
   "execution_count": 56,
   "id": "d5ef95dd",
   "metadata": {},
   "outputs": [
    {
     "data": {
      "text/plain": [
       "[('스폰지', 0.741403341293335),\n",
       " ('잼', 0.722240686416626),\n",
       " ('딜런', 0.7016739845275879),\n",
       " ('레몬', 0.6799979209899902),\n",
       " ('쌀밥', 0.6715186238288879),\n",
       " ('패티', 0.6604835987091064),\n",
       " ('사탕', 0.6595034003257751),\n",
       " ('푸딩', 0.6555274128913879),\n",
       " ('커리', 0.6538302302360535),\n",
       " ('한잔', 0.6525587439537048)]"
      ]
     },
     "execution_count": 56,
     "metadata": {},
     "output_type": "execute_result"
    }
   ],
   "source": [
    "word2vec.wv.similar_by_word(\"밥\")"
   ]
  },
  {
   "cell_type": "code",
   "execution_count": 66,
   "id": "92fe153c",
   "metadata": {},
   "outputs": [],
   "source": [
    "import numpy as np\n",
    "vocab_size = 10000\n",
    "word_vector_dim = 100\n",
    "embedding_matrix = np.random.rand(vocab_size, word_vector_dim)\n",
    "\n",
    "# embedding_matrix에 Word2Vec 워드 벡터를 단어 하나씩마다 차례차례 카피한다.\n",
    "for i in range(4,vocab_size):\n",
    "    if index_to_word[i] in word2vec.wv:\n",
    "        embedding_matrix[i] = word2vec.wv[index_to_word[i]]"
   ]
  },
  {
   "cell_type": "code",
   "execution_count": 67,
   "id": "6c9149f8",
   "metadata": {},
   "outputs": [
    {
     "name": "stdout",
     "output_type": "stream",
     "text": [
      "Model: \"sequential_1\"\n",
      "_________________________________________________________________\n",
      "Layer (type)                 Output Shape              Param #   \n",
      "=================================================================\n",
      "embedding_1 (Embedding)      (None, 100, 100)          1000000   \n",
      "_________________________________________________________________\n",
      "conv1d_2 (Conv1D)            (None, 94, 16)            11216     \n",
      "_________________________________________________________________\n",
      "max_pooling1d_1 (MaxPooling1 (None, 18, 16)            0         \n",
      "_________________________________________________________________\n",
      "conv1d_3 (Conv1D)            (None, 12, 16)            1808      \n",
      "_________________________________________________________________\n",
      "global_max_pooling1d_1 (Glob (None, 16)                0         \n",
      "_________________________________________________________________\n",
      "dense_2 (Dense)              (None, 8)                 136       \n",
      "_________________________________________________________________\n",
      "dense_3 (Dense)              (None, 1)                 9         \n",
      "=================================================================\n",
      "Total params: 1,013,169\n",
      "Trainable params: 1,013,169\n",
      "Non-trainable params: 0\n",
      "_________________________________________________________________\n"
     ]
    }
   ],
   "source": [
    "# 모델 구성\n",
    "model_bi_lstm = Sequential(name='Bidirectional_LSTM')\n",
    "model_bi_lstm.add(Embedding(num_words, word_vector_dim, name='emb'))\n",
    "model_bi_lstm.add(Bidirectional(LSTM(64, name='bi_lstm')))\n",
    "model_bi_lstm.add(Dense(64, activation='relu', name='d_rel'))\n",
    "model_bi_lstm.add(Dense(1, activation='sigmoid', name='d_sig'))\n",
    "\n",
    "model.summary()"
   ]
  },
  {
   "cell_type": "code",
   "execution_count": 68,
   "id": "586cdec9",
   "metadata": {},
   "outputs": [
    {
     "name": "stdout",
     "output_type": "stream",
     "text": [
      "Epoch 1/10\n",
      "3655/3655 [==============================] - 42s 11ms/step - loss: 0.3698 - acc: 0.8346 - val_loss: 0.3284 - val_acc: 0.8560\n",
      "\n",
      "Epoch 00001: val_acc did not improve from 0.86742\n",
      "Epoch 2/10\n",
      "3655/3655 [==============================] - 39s 11ms/step - loss: 0.2839 - acc: 0.8795 - val_loss: 0.3218 - val_acc: 0.8649\n",
      "\n",
      "Epoch 00002: val_acc did not improve from 0.86742\n",
      "Epoch 3/10\n",
      "3655/3655 [==============================] - 38s 10ms/step - loss: 0.2383 - acc: 0.9012 - val_loss: 0.3215 - val_acc: 0.8672\n",
      "\n",
      "Epoch 00003: val_acc did not improve from 0.86742\n",
      "Epoch 4/10\n",
      "3655/3655 [==============================] - 38s 10ms/step - loss: 0.1984 - acc: 0.9202 - val_loss: 0.3479 - val_acc: 0.8621\n",
      "\n",
      "Epoch 00004: val_acc did not improve from 0.86742\n",
      "Epoch 5/10\n",
      "3655/3655 [==============================] - 38s 11ms/step - loss: 0.1639 - acc: 0.9347 - val_loss: 0.4058 - val_acc: 0.8526\n",
      "\n",
      "Epoch 00005: val_acc did not improve from 0.86742\n",
      "Epoch 6/10\n",
      "3655/3655 [==============================] - 38s 10ms/step - loss: 0.1328 - acc: 0.9484 - val_loss: 0.4497 - val_acc: 0.8577\n",
      "\n",
      "Epoch 00006: val_acc did not improve from 0.86742\n",
      "Epoch 00006: early stopping\n"
     ]
    }
   ],
   "source": [
    "model_bi_lstm.compile(optimizer='adam', loss='binary_crossentropy', metrics=['acc'])\n",
    "history_bi_lstm = model_bi_lstm.fit(X_train, y_train, epochs=10, validation_data=(X_val, y_val), callbacks=[es_bi_lstm, mc_bi_lstm])"
   ]
  },
  {
   "cell_type": "code",
   "execution_count": 69,
   "id": "295a657f",
   "metadata": {},
   "outputs": [
    {
     "name": "stdout",
     "output_type": "stream",
     "text": [
      "Bidirectional LSTM Test Accuracy: 0.8539780974388123\n"
     ]
    }
   ],
   "source": [
    "test_loss_bi_lstm, test_accuracy_bi_lstm = model_bi_lstm.evaluate(X_test, y_test, verbose=0)\n",
    "print(\"Bidirectional LSTM Test Accuracy:\", test_accuracy_bi_lstm)\n"
   ]
  },
  {
   "cell_type": "code",
   "execution_count": null,
   "id": "c555ca2a",
   "metadata": {},
   "outputs": [],
   "source": []
  }
 ],
 "metadata": {
  "kernelspec": {
   "display_name": "Python 3 (ipykernel)",
   "language": "python",
   "name": "python3"
  },
  "language_info": {
   "codemirror_mode": {
    "name": "ipython",
    "version": 3
   },
   "file_extension": ".py",
   "mimetype": "text/x-python",
   "name": "python",
   "nbconvert_exporter": "python",
   "pygments_lexer": "ipython3",
   "version": "3.9.7"
  }
 },
 "nbformat": 4,
 "nbformat_minor": 5
}
